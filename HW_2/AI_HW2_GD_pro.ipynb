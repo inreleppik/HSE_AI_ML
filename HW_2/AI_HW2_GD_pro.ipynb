{
 "cells": [
  {
   "cell_type": "markdown",
   "metadata": {
    "colab_type": "text",
    "id": "view-in-github"
   },
   "source": [
    "<a href=\"https://colab.research.google.com/github/Murcha1990/ML_AI24/blob/main/Hometasks/Pro/AI_HW2_GD_pro.ipynb\" target=\"_parent\"><img src=\"https://colab.research.google.com/assets/colab-badge.svg\" alt=\"Open In Colab\"/></a>"
   ]
  },
  {
   "cell_type": "markdown",
   "metadata": {
    "id": "lJ1Hwqs18fSZ"
   },
   "source": [
    "# **Домашнее задание 2: Градиентный спуск (pro)**\n",
    "\n",
    "В этом задании две части - теоретическая и практическая. Теорию можно набирать, используя LaTex или просто решать на листочке, сфотографировать и отправить вместе с заполненным ноутбуком в anytask.\n",
    "\n",
    "Максимальный балл за домашнее задание - 10."
   ]
  },
  {
   "cell_type": "markdown",
   "metadata": {
    "id": "EMZ5My7kiPY_"
   },
   "source": [
    "## Часть 1 (теоретическая)\n",
    "\n",
    "## Задание 1 (**1.5 балла**)\n",
    "\n",
    "В случае одномерной Ridge-регрессии минимизируется функция со штрафом:\n",
    "$$Q(w) = (y-xw)^T(y-xw)+\\lambda w^2,$$\n",
    "где $\\lambda$ - положительный параметр, штрафующий функцию за слишком большие значения $w$.\n",
    "\n",
    "1)  (**0.5 балла**) Найдите производную $\\nabla_w Q(w)$, выведите формулу для оптимального $w$.\n",
    "\n",
    "2) (**0.5 балла**) Найдите вторую производную $\\nabla^2_w Q(w)$. Убедитесь, что мы оказались в точке минимума.\n",
    "\n",
    "3) (**0.5 балла**) Выпишите шаг градиентного спуска в матричном виде."
   ]
  },
  {
   "cell_type": "markdown",
   "metadata": {
    "id": "LQMI7b9Y9KvW"
   },
   "source": [
    "`Ваш ответ здесь`\n",
    "\n"
   ]
  },
  {
   "cell_type": "markdown",
   "metadata": {
    "id": "_pGazqdK9Tvf"
   },
   "source": [
    "## Часть 2 (практическая).\n",
    "\n",
    "## Задание 2 (**1 балл**)\n",
    "\n",
    "Дана функция: $$f(x) = x\\cdot sin(5x) + 0.1 \\cdot x^2$$\n",
    "\n",
    "Для этой функции:\n",
    "\n",
    "- [ ] Реализуйте (или возьмите рассмотренный на занятии) метод градиетного спуска с условием остановки `stop=1e^-6` и шагом `eta=0.001`. **Градиетный спуск обязательно должен сохранять траекторию движения.**\n",
    "- [ ] Задайте стартовые точки x0, равные 0, 0.5, 1\n",
    "- [ ] Реализуйте нахождение точек минимума и максимума функции $f(x)$ (для нахождения максимума нам нужно в направлении градиента, а не антиградиента)\n",
    "- [ ] Проанализируйте результаты. Предположите, с чем они связаны. Ответьте на вопросы:\n",
    "    - Чему равны значения экстремумов?\n",
    "    - При старте из какой начальной точки найденные экстремумы совпадут?\n",
    "\n",
    "\n"
   ]
  },
  {
   "cell_type": "code",
   "execution_count": 195,
   "metadata": {
    "id": "HJbAEs3_-zet"
   },
   "outputs": [],
   "source": [
    "import pandas as pd\n",
    "import numpy as np\n",
    "# Функция и её производная\n",
    "def f(x):\n",
    "    return x * np.sin(5*x) + 0.1*x**2\n",
    "\n",
    "def df_x(x):\n",
    "    return 5 * x * np.cos(5*x) + np.sin(5*x) + 0.2 * x\n",
    "\n",
    "# Градиентный спуск\n",
    "def gradient_descent(df, x0, eta, max_iter=1000, tol=1e-6):\n",
    "    x = x0\n",
    "\n",
    "    path = []\n",
    "    path.append(x)\n",
    "\n",
    "    for i in range(max_iter):\n",
    "        x_new = x - eta * df(x)\n",
    "        path.append(x)\n",
    "        \n",
    "        if abs(x_new - x) < tol:\n",
    "            return x, path\n",
    "\n",
    "        x = x_new        \n",
    "    return x, path\n",
    "\n",
    "# Поиск экстремумов\n",
    "def find_points(df, x0, eta, max_iter=1000, tol=1e-6):\n",
    "\n",
    "    x_min, path_min = gradient_descent(df, x0, eta)\n",
    "\n",
    "    x_max, path_max = gradient_descent(lambda x: - df(x), x0, eta)\n",
    "\n",
    "    return x_min, path_min, x_max, path_max\n"
   ]
  },
  {
   "cell_type": "code",
   "execution_count": 234,
   "metadata": {},
   "outputs": [],
   "source": [
    "initial_points = [0,0.0001, 0.5, 1]\n",
    "eta = 0.001\n",
    "\n",
    "results = []\n",
    "for x0 in initial_points:\n",
    "    x_min, path_min, x_max, path_max = find_points(df_x, x0, eta)\n",
    "    results.append({\n",
    "        'x0': x0,\n",
    "        'x_min': x_min,\n",
    "        'x_max': x_max,\n",
    "        'path_min': path_min,\n",
    "        'path_max': path_max\n",
    "    })\n",
    "\n",
    "df_results = pd.DataFrame([\n",
    "    {\n",
    "        'start_point': res['x0'],\n",
    "        'min': res['x_min'],\n",
    "        'max': res['x_max'],\n",
    "        'iterations_min': len(res['path_min']),\n",
    "        'iterations_max': len(res['path_max'])\n",
    "    }\n",
    "    for res in results\n",
    "])"
   ]
  },
  {
   "cell_type": "code",
   "execution_count": 236,
   "metadata": {},
   "outputs": [
    {
     "data": {
      "text/html": [
       "<div>\n",
       "<style scoped>\n",
       "    .dataframe tbody tr th:only-of-type {\n",
       "        vertical-align: middle;\n",
       "    }\n",
       "\n",
       "    .dataframe tbody tr th {\n",
       "        vertical-align: top;\n",
       "    }\n",
       "\n",
       "    .dataframe thead th {\n",
       "        text-align: right;\n",
       "    }\n",
       "</style>\n",
       "<table border=\"1\" class=\"dataframe\">\n",
       "  <thead>\n",
       "    <tr style=\"text-align: right;\">\n",
       "      <th></th>\n",
       "      <th>start_point</th>\n",
       "      <th>min</th>\n",
       "      <th>max</th>\n",
       "      <th>iterations_min</th>\n",
       "      <th>iterations_max</th>\n",
       "    </tr>\n",
       "  </thead>\n",
       "  <tbody>\n",
       "    <tr>\n",
       "      <th>0</th>\n",
       "      <td>0.0000</td>\n",
       "      <td>0.000000</td>\n",
       "      <td>0.000000</td>\n",
       "      <td>2</td>\n",
       "      <td>2</td>\n",
       "    </tr>\n",
       "    <tr>\n",
       "      <th>1</th>\n",
       "      <td>0.0001</td>\n",
       "      <td>0.000098</td>\n",
       "      <td>0.396105</td>\n",
       "      <td>4</td>\n",
       "      <td>1001</td>\n",
       "    </tr>\n",
       "    <tr>\n",
       "      <th>2</th>\n",
       "      <td>0.5000</td>\n",
       "      <td>0.975061</td>\n",
       "      <td>0.411857</td>\n",
       "      <td>447</td>\n",
       "      <td>513</td>\n",
       "    </tr>\n",
       "    <tr>\n",
       "      <th>3</th>\n",
       "      <td>1.0000</td>\n",
       "      <td>0.975138</td>\n",
       "      <td>1.603529</td>\n",
       "      <td>248</td>\n",
       "      <td>337</td>\n",
       "    </tr>\n",
       "  </tbody>\n",
       "</table>\n",
       "</div>"
      ],
      "text/plain": [
       "   start_point       min       max  iterations_min  iterations_max\n",
       "0       0.0000  0.000000  0.000000               2               2\n",
       "1       0.0001  0.000098  0.396105               4            1001\n",
       "2       0.5000  0.975061  0.411857             447             513\n",
       "3       1.0000  0.975138  1.603529             248             337"
      ]
     },
     "execution_count": 236,
     "metadata": {},
     "output_type": "execute_result"
    }
   ],
   "source": [
    "df_results"
   ]
  },
  {
   "cell_type": "markdown",
   "metadata": {},
   "source": [
    "- Экстремумы (точки указаны в таблице выше) для каждой начальной точки получились разными. Вероятно так получилось из-за нелинейности функции и наличия у нее множества локальных экстермумов на разных отрезках.\n",
    "- Экстремумы совпадут при старте из точки 0. Это связано с тем, что при подставлении значения 0  в производную функцию она равняется 0."
   ]
  },
  {
   "cell_type": "code",
   "execution_count": 225,
   "metadata": {},
   "outputs": [
    {
     "data": {
      "text/plain": [
       "0.0"
      ]
     },
     "execution_count": 225,
     "metadata": {},
     "output_type": "execute_result"
    }
   ],
   "source": [
    "df_x(0)"
   ]
  },
  {
   "cell_type": "code",
   "execution_count": 227,
   "metadata": {},
   "outputs": [
    {
     "data": {
      "text/plain": [
       "0.0"
      ]
     },
     "execution_count": 227,
     "metadata": {},
     "output_type": "execute_result"
    }
   ],
   "source": [
    "f(0)"
   ]
  },
  {
   "cell_type": "markdown",
   "metadata": {
    "id": "lm6_Ln0GoliG"
   },
   "source": [
    "## Задание 3 (**0.5 балла**).\n",
    "Напишите функцию, вычисляющую значение весов в линейной регрессии по точной (аналитически найденной) формуле."
   ]
  },
  {
   "cell_type": "code",
   "execution_count": 391,
   "metadata": {
    "id": "ZrVvpU9miOga"
   },
   "outputs": [],
   "source": [
    "def ols_solution(X, y):\n",
    "    X = np.hstack((np.ones((X.shape[0], 1)), X))\n",
    "    return  np.linalg.inv(X.T @ X) @ X.T @ y"
   ]
  },
  {
   "cell_type": "markdown",
   "metadata": {
    "id": "_shCsTQ1pVcU"
   },
   "source": [
    "## Задание 5 (**1 балл**).\n",
    "Модифицируйте метод градиентного спуска с семинара так, чтобы это теперь был метод стохастического градиентного спуска."
   ]
  },
  {
   "cell_type": "code",
   "execution_count": 323,
   "metadata": {},
   "outputs": [],
   "source": [
    "def compute_cost(X, y, theta):\n",
    "    m = len(y)\n",
    "\n",
    "    cost = (1./m) * (np.linalg.norm(X @ theta - y) ** 2)\n",
    "    return cost"
   ]
  },
  {
   "cell_type": "code",
   "execution_count": 243,
   "metadata": {
    "id": "fTZWxz1zpb9R"
   },
   "outputs": [],
   "source": [
    "def stochastic_gradient_descent(X, y, learning_rate, iterations):\n",
    "\n",
    "    X = np.hstack((np.ones((X.shape[0], 1)), X))\n",
    "    params = np.random.rand(X.shape[1]) \n",
    "    \n",
    "    m = X.shape[0] \n",
    "\n",
    "    cost_track = np.zeros((iterations, 1))  \n",
    "\n",
    "    for i in range(iterations):\n",
    "        idx = np.random.randint(0, m)\n",
    "        X_i = X[idx, :].reshape(1, -1)  \n",
    "        y_i = y[idx]  \n",
    "\n",
    "        params = params - learning_rate * (2 * X_i.T @ ((X_i @ params) - y_i))\n",
    "        cost_track[i] = compute_cost(X, y, params)\n",
    "\n",
    "    return cost_track, params"
   ]
  },
  {
   "cell_type": "markdown",
   "metadata": {
    "id": "WnRlUa9Npi9o"
   },
   "source": [
    "## Задание 6 (**3 балла**).\n",
    "* **(0 баллов)**. Скопируйте метод градиентного спуска из семинара в этот ноутбук.\n",
    "\n",
    "* **(0.5 балла)**. Обучите линейную регрессию на данных, сгенерированных ниже, тремя методами (по точной формуле, с помощью GD и с помощью SGD) на данных для задачи регрессии (см. код). Для GD и SGD используйте learning_rate = 0.01, iterations=10000.\n",
    "\n",
    "* **(0.5 балла)**. С помощью каждого метода сделайте предсказание (на всех данных), вычислите качество предсказания r2 (from sklearn.metrics import r2_score). Для получения предсказания можете использовать функцию predict с семинара.\n",
    "\n",
    "\n",
    "Ответьте на следующие вопросы (каждый вопрос - **0.5 балла**):\n",
    "\n",
    "1) все ли методы справились с нахождением минимума? если нет, то почему какой-то из методов не справился?\n",
    "\n",
    "2) сравните время работы методов (используйте библиотеку time): замеряйте время работы соответствующей написанной вами функции.\n",
    "\n",
    "3) для методов GD и SGD нарисуйте графики (для каждого свой) зависимости ошибки (loss) от номера итерации.\n",
    "\n",
    "4) какой метод успешнее всего справился с задачей? (т.е. r2 наибольший)."
   ]
  },
  {
   "cell_type": "code",
   "execution_count": 246,
   "metadata": {},
   "outputs": [],
   "source": [
    "def gradient_descent(X, y, learning_rate, iterations):\n",
    "\n",
    "    X = np.hstack((np.ones((X.shape[0], 1)), X))\n",
    "    params = np.random.rand(X.shape[1])\n",
    "\n",
    "    m = X.shape[0]\n",
    "\n",
    "    cost_track = np.zeros((iterations,1))\n",
    "\n",
    "    for i in range(iterations):\n",
    "        params = params - 2./m * learning_rate * (X.T @ ((X @ params) - y))\n",
    "        cost_track[i] = compute_cost(X, y, params)\n",
    "\n",
    "    return cost_track, params"
   ]
  },
  {
   "cell_type": "code",
   "execution_count": 300,
   "metadata": {
    "id": "LBu41KSpqbbI"
   },
   "outputs": [],
   "source": [
    "from sklearn.datasets import make_regression\n",
    "from sklearn.metrics import r2_score\n",
    "\n",
    "X, y, _ = make_regression(n_samples=100000,#number of samples\n",
    "                          n_features=10,#number of features\n",
    "                          n_informative=8,#number of useful features\n",
    "                          noise=100,#bias and standard deviation of the guassian noise\n",
    "                          coef=True,#true coefficient used to generated the data\n",
    "                          random_state=123)\n",
    "\n",
    "X = pd.DataFrame(data=X, columns=np.arange(0, X.shape[1]))\n",
    "X[10] = X[6] + X[7] + np.random.random()*0.01"
   ]
  },
  {
   "cell_type": "code",
   "execution_count": 279,
   "metadata": {
    "id": "f1SE0-oUtVlO"
   },
   "outputs": [],
   "source": [
    "def predict(X, params):\n",
    "    X = np.hstack((np.ones((X.shape[0], 1)), X))\n",
    "    return X @ params"
   ]
  },
  {
   "cell_type": "code",
   "execution_count": 347,
   "metadata": {},
   "outputs": [],
   "source": [
    "from time import time\n",
    "import matplotlib.pyplot as plt"
   ]
  },
  {
   "cell_type": "markdown",
   "metadata": {},
   "source": [
    "### Обучение линейной регрессии по аналитической формуле"
   ]
  },
  {
   "cell_type": "code",
   "execution_count": 393,
   "metadata": {},
   "outputs": [
    {
     "name": "stdout",
     "output_type": "stream",
     "text": [
      "0.035411834716796875\n"
     ]
    }
   ],
   "source": [
    "start = time()\n",
    "\n",
    "params_ols = ols_solution(X, y)\n",
    "\n",
    "end = time()\n",
    "print(end - start)"
   ]
  },
  {
   "cell_type": "code",
   "execution_count": 395,
   "metadata": {},
   "outputs": [
    {
     "name": "stdout",
     "output_type": "stream",
     "text": [
      "0.7522787820701916\n"
     ]
    }
   ],
   "source": [
    "ols_preds = predict(X, params_ols)\n",
    "r2_ols = r2_score(y, ols_preds)\n",
    "print(r2_ols)"
   ]
  },
  {
   "cell_type": "markdown",
   "metadata": {},
   "source": [
    "### Обучение линейной регрессии с помощью GD"
   ]
  },
  {
   "cell_type": "code",
   "execution_count": 406,
   "metadata": {},
   "outputs": [
    {
     "name": "stdout",
     "output_type": "stream",
     "text": [
      "7.917484760284424\n"
     ]
    }
   ],
   "source": [
    "start = time()\n",
    "\n",
    "params_GD = gradient_descent(X, y, 0.01, 10000)\n",
    "\n",
    "end = time()\n",
    "print(end - start)"
   ]
  },
  {
   "cell_type": "code",
   "execution_count": 408,
   "metadata": {},
   "outputs": [
    {
     "name": "stdout",
     "output_type": "stream",
     "text": [
      "0.7554626185750483\n"
     ]
    }
   ],
   "source": [
    "gd_preds = predict(X, params_GD[1])\n",
    "r2_gd = r2_score(y, gd_preds)\n",
    "print(r2_gd)"
   ]
  },
  {
   "cell_type": "code",
   "execution_count": 410,
   "metadata": {},
   "outputs": [
    {
     "data": {
      "image/png": "[encoded data removed]",
      "text/plain": [
       "<Figure size 700x600 with 1 Axes>"
      ]
     },
     "metadata": {},
     "output_type": "display_data"
    }
   ],
   "source": [
    "plt.figure(figsize=(7, 6))\n",
    "plt.plot(range(len(params_GD[0])), params_GD[0], label=\"Loss\")\n",
    "plt.xlabel(\"Iterations\")\n",
    "plt.ylabel(\"Loss\")\n",
    "plt.title(\"LR-GD\")\n",
    "plt.legend()\n",
    "plt.grid()\n",
    "plt.show()"
   ]
  },
  {
   "cell_type": "markdown",
   "metadata": {},
   "source": [
    "### Обучение линейной регрессии с помощью SGD"
   ]
  },
  {
   "cell_type": "code",
   "execution_count": 413,
   "metadata": {},
   "outputs": [
    {
     "name": "stdout",
     "output_type": "stream",
     "text": [
      "4.471971035003662\n"
     ]
    }
   ],
   "source": [
    "start = time()\n",
    "\n",
    "params_SGD = stochastic_gradient_descent(X, y, 0.01, 10000)\n",
    "\n",
    "end = time()\n",
    "print(end - start)"
   ]
  },
  {
   "cell_type": "code",
   "execution_count": 414,
   "metadata": {},
   "outputs": [
    {
     "name": "stdout",
     "output_type": "stream",
     "text": [
      "0.7227301830784985\n"
     ]
    }
   ],
   "source": [
    "sgd_preds = predict(X, params_SGD[1])\n",
    "r2_sgd = r2_score(y, sgd_preds)\n",
    "print(r2_sgd)"
   ]
  },
  {
   "cell_type": "code",
   "execution_count": 415,
   "metadata": {},
   "outputs": [
    {
     "data": {
      "image/png": "[encoded data removed]",
      "text/plain": [
       "<Figure size 700x600 with 1 Axes>"
      ]
     },
     "metadata": {},
     "output_type": "display_data"
    }
   ],
   "source": [
    "plt.figure(figsize=(7, 6))\n",
    "plt.plot(range(len(params_SGD[0])), params_SGD[0], label=\"Loss\")\n",
    "plt.xlabel(\"Iterations\")\n",
    "plt.ylabel(\"Loss\")\n",
    "plt.title(\"LR-SGD\")\n",
    "plt.legend()\n",
    "plt.grid()\n",
    "plt.show()"
   ]
  },
  {
   "cell_type": "markdown",
   "metadata": {
    "id": "2zrdVgQrtcAn"
   },
   "source": [
    "- Судя по метрикам, все методы справились с нахождением минимума\n",
    "- Наиболее быстрым является метод OLS, а наиболее медленным GD\n",
    "- Лучший показатель R^2 наблюдался у метода GD. SGD показал себя хуже всех. OLS был чуть хуже, чем GD, но это возможно произошло из-за не иделаьной обратимости матриц."
   ]
  },
  {
   "cell_type": "markdown",
   "metadata": {
    "id": "wYmzzJVV54zT"
   },
   "source": [
    "## Задание 7 (1.5 балла).\n",
    "\n",
    "* **(0.5 балла)**. Добавьте в функцию из задания 5 L2-регуляризацию и, соответственно, новый аргумент - коэффициент при регуляризаторе.\n",
    "\n",
    "* **(1 балл)**. На сгенерированных выше данных обучите модифицированный алгоритм SGD с регуляризацией: в цикле перебирайте значения коэффициента регуляризации от 0.1 до 1 с шагом 0.1. Для каждого значения обучите модель и сделайте предсказание, выведите значение r2. Для какого значения коэффициента регуляризации получилось наилучшее качество r2, почему?"
   ]
  },
  {
   "cell_type": "code",
   "execution_count": 374,
   "metadata": {
    "id": "b_hC1Ehi612d"
   },
   "outputs": [],
   "source": [
    "def stochastic_gradient_descent_l_2(X, y, learning_rate, iterations, alpha):\n",
    "\n",
    "    X = np.hstack((np.ones((X.shape[0], 1)), X))\n",
    "    params = np.random.rand(X.shape[1]) \n",
    "    \n",
    "    m = X.shape[0] \n",
    "\n",
    "    cost_track = np.zeros((iterations, 1))  \n",
    "\n",
    "    for i in range(iterations):\n",
    "        idx = np.random.randint(0, m)\n",
    "        X_i = X[idx, :].reshape(1, -1)  \n",
    "        y_i = y[idx]  \n",
    "\n",
    "        params = params - learning_rate * (2 * (X_i.T @ ((X_i @ params) - y_i)) + 2 * alpha * params)\n",
    "        cost_track[i] = compute_cost(X, y, params)\n",
    "\n",
    "    return cost_track, params"
   ]
  },
  {
   "cell_type": "code",
   "execution_count": 384,
   "metadata": {},
   "outputs": [
    {
     "name": "stdout",
     "output_type": "stream",
     "text": [
      "351.8192801475525\n",
      "Лучшее значение alpha: 0.05\n",
      "Максимальный R^2: 0.7431896666261308\n"
     ]
    }
   ],
   "source": [
    "start = time()\n",
    "results = []\n",
    "\n",
    "for alpha in np.arange(0.01, 1.01, 0.01):\n",
    "    cost_track, params = stochastic_gradient_descent_l_2(X, y, 0.01, 10000, alpha)\n",
    "    predictions = predict(X, params)\n",
    "    r2 = r2_score(y, predictions)\n",
    "    results.append((alpha, r2))\n",
    "\n",
    "end = time()\n",
    "print(end - start)\n",
    "best_a_r = max(results, key=lambda x: x[1])\n",
    "print(\"Лучшее значение alpha:\", best_a_r[0])\n",
    "print(\"Максимальный R^2:\", best_a_r[1])"
   ]
  },
  {
   "cell_type": "markdown",
   "metadata": {},
   "source": [
    "Мне было интересно можно ли добиться лучших результатов при большем диапазоне перебора параметров. Как оказалось можно. При обычном переборе лучшим коэффициентом регуляризации оказался 0.1 с R^2 равным 0.7424. При более широком подборе коэффициента лучшим окзался коэффициент 0.05 с R^2 равным 0.7431."
   ]
  },
  {
   "cell_type": "code",
   "execution_count": 381,
   "metadata": {},
   "outputs": [
    {
     "data": {
      "text/plain": [
       "[(0.1, 0.7424368186999424),\n",
       " (0.2, 0.7167011944603888),\n",
       " (0.30000000000000004, 0.7377533294902258),\n",
       " (0.4, 0.6635301886832805),\n",
       " (0.5, 0.683008326973165),\n",
       " (0.6000000000000001, 0.6214120185492393),\n",
       " (0.7000000000000001, 0.6749058788282238),\n",
       " (0.8, 0.680728984046522),\n",
       " (0.9, 0.6036940757177472),\n",
       " (1.0, 0.6182759745650668)]"
      ]
     },
     "execution_count": 381,
     "metadata": {},
     "output_type": "execute_result"
    }
   ],
   "source": [
    "results"
   ]
  },
  {
   "cell_type": "code",
   "execution_count": 386,
   "metadata": {},
   "outputs": [
    {
     "data": {
      "text/plain": [
       "[(0.01, 0.7231217278978066),\n",
       " (0.02, 0.7271091833363573),\n",
       " (0.03, 0.7381200417262772),\n",
       " (0.04, 0.7151218673396493),\n",
       " (0.05, 0.7431896666261308),\n",
       " (0.06, 0.7366223944609291),\n",
       " (0.07, 0.733175027527567),\n",
       " (0.08, 0.7211918100388215),\n",
       " (0.09, 0.6923544798309677),\n",
       " (0.1, 0.7033761753217412),\n",
       " (0.11, 0.7385115382250702),\n",
       " (0.12, 0.7371227524040409),\n",
       " (0.13, 0.7144486827860672),\n",
       " (0.14, 0.7198538953534352),\n",
       " (0.15, 0.7282687447706728),\n",
       " (0.16, 0.7007189938667999),\n",
       " (0.17, 0.7113909851915077),\n",
       " (0.18, 0.7349780171621492),\n",
       " (0.19, 0.7112753174216186),\n",
       " (0.2, 0.7223504483330949),\n",
       " (0.21, 0.6850470368177651),\n",
       " (0.22, 0.7404352271082926),\n",
       " (0.23, 0.6876181074375446),\n",
       " (0.24, 0.7208709220550324),\n",
       " (0.25, 0.7161758244144267),\n",
       " (0.26, 0.7366016878620286),\n",
       " (0.27, 0.7302977219309561),\n",
       " (0.28, 0.7365888605302857),\n",
       " (0.29, 0.6880185360693967),\n",
       " (0.3, 0.7111976871031448),\n",
       " (0.31, 0.7226934799549358),\n",
       " (0.32, 0.6745531562074358),\n",
       " (0.33, 0.7019821048344799),\n",
       " (0.34, 0.6761826533282016),\n",
       " (0.35000000000000003, 0.679843660154798),\n",
       " (0.36, 0.700688159205377),\n",
       " (0.37, 0.6629219611804354),\n",
       " (0.38, 0.7034853477278631),\n",
       " (0.39, 0.673869021495885),\n",
       " (0.4, 0.6799079385356711),\n",
       " (0.41000000000000003, 0.6743587889298319),\n",
       " (0.42, 0.6412746497389266),\n",
       " (0.43, 0.6795424771506053),\n",
       " (0.44, 0.6859993551800685),\n",
       " (0.45, 0.6524056820354258),\n",
       " (0.46, 0.6709062482175202),\n",
       " (0.47000000000000003, 0.6733202604867312),\n",
       " (0.48, 0.6652798473837158),\n",
       " (0.49, 0.6874917075521805),\n",
       " (0.5, 0.6730813968735064),\n",
       " (0.51, 0.7032824883415927),\n",
       " (0.52, 0.7172074730919663),\n",
       " (0.53, 0.7168499240890528),\n",
       " (0.54, 0.6922350762706011),\n",
       " (0.55, 0.6534459429007875),\n",
       " (0.56, 0.6883285189119082),\n",
       " (0.5700000000000001, 0.6778792713921251),\n",
       " (0.58, 0.6480196470177528),\n",
       " (0.59, 0.6169783809494405),\n",
       " (0.6, 0.6613498279294484),\n",
       " (0.61, 0.6761919397137268),\n",
       " (0.62, 0.6396727584784824),\n",
       " (0.63, 0.6402280584478193),\n",
       " (0.64, 0.6874951649182537),\n",
       " (0.65, 0.6268363169538667),\n",
       " (0.66, 0.6818604739101163),\n",
       " (0.67, 0.7028641302264726),\n",
       " (0.68, 0.7069702926917558),\n",
       " (0.6900000000000001, 0.6334748566133444),\n",
       " (0.7000000000000001, 0.5815748038844839),\n",
       " (0.71, 0.5858330537883127),\n",
       " (0.72, 0.681015901433415),\n",
       " (0.73, 0.6487132185268452),\n",
       " (0.74, 0.67994128842191),\n",
       " (0.75, 0.5762774698410104),\n",
       " (0.76, 0.6162174661951627),\n",
       " (0.77, 0.6228500485984028),\n",
       " (0.78, 0.6677604736877794),\n",
       " (0.79, 0.6284672439549426),\n",
       " (0.8, 0.661167840678472),\n",
       " (0.81, 0.6077188337818797),\n",
       " (0.8200000000000001, 0.6365198966876442),\n",
       " (0.8300000000000001, 0.6315876057893799),\n",
       " (0.84, 0.6198937250993922),\n",
       " (0.85, 0.6516200770156451),\n",
       " (0.86, 0.6508738884055443),\n",
       " (0.87, 0.6633307506181183),\n",
       " (0.88, 0.5913570520329223),\n",
       " (0.89, 0.6088069901080673),\n",
       " (0.9, 0.6416748144188089),\n",
       " (0.91, 0.6665411485759605),\n",
       " (0.92, 0.5895289730040525),\n",
       " (0.93, 0.6166193341080304),\n",
       " (0.9400000000000001, 0.6200438994401415),\n",
       " (0.9500000000000001, 0.6149289251924597),\n",
       " (0.96, 0.5621400338891652),\n",
       " (0.97, 0.5474421707651346),\n",
       " (0.98, 0.6232350848847135),\n",
       " (0.99, 0.5618944723665766),\n",
       " (1.0, 0.6251775627553744)]"
      ]
     },
     "execution_count": 386,
     "metadata": {},
     "output_type": "execute_result"
    }
   ],
   "source": [
    "results"
   ]
  },
  {
   "cell_type": "markdown",
   "metadata": {
    "id": "zMUiRyCiCB3E"
   },
   "source": [
    "## Задание 8 (2 балла)\n",
    "\n",
    "Реализуйте на выбор одну из оптимизаций градиентного спуска - Momentum или  AdaGrad. Необходимые выкладки вы можете подсмотреть [здесь](https://education.yandex.ru/handbook/ml/article/optimizaciya-v-ml)."
   ]
  },
  {
   "cell_type": "code",
   "execution_count": 419,
   "metadata": {
    "id": "ID9ervHwCyc7"
   },
   "outputs": [],
   "source": [
    "def adagrad(X, y, learning_rate, iterations, epsilon=1e-8):\n",
    "    \n",
    "    X = np.hstack((np.ones((X.shape[0], 1)), X))\n",
    "    params = np.random.rand(X.shape[1])  \n",
    "    m = X.shape[0]  \n",
    "    \n",
    "    cost_track = np.zeros((iterations, 1))  \n",
    "    G = np.zeros_like(params)  \n",
    "\n",
    "    for i in range(iterations):\n",
    "        grad = (2 / m) * (X.T @ (X @ params - y))\n",
    "        G += grad**2\n",
    "        adjusted_lr = learning_rate / (np.sqrt(G) + epsilon)\n",
    "        \n",
    "        params -= adjusted_lr * grad        \n",
    "        cost_track[i] = compute_cost(X, y, params)\n",
    "    \n",
    "    return cost_track, params"
   ]
  },
  {
   "cell_type": "code",
   "execution_count": 468,
   "metadata": {},
   "outputs": [
    {
     "name": "stdout",
     "output_type": "stream",
     "text": [
      "10318.150506019592\n"
     ]
    }
   ],
   "source": [
    "start = time()\n",
    "ada_params = adagrad(X, y, 0.01, 10000000)\n",
    "end = time()\n",
    "print(end - start)"
   ]
  },
  {
   "cell_type": "code",
   "execution_count": 469,
   "metadata": {},
   "outputs": [
    {
     "name": "stdout",
     "output_type": "stream",
     "text": [
      "0.7304268103316589\n"
     ]
    }
   ],
   "source": [
    "ada_preds = predict(X, ada_params[1])\n",
    "r2_ada = r2_score(y, ada_preds)\n",
    "print(r2_ada)"
   ]
  },
  {
   "cell_type": "code",
   "execution_count": 470,
   "metadata": {},
   "outputs": [
    {
     "data": {
      "image/png": "[encoded data removed]",
      "text/plain": [
       "<Figure size 700x600 with 1 Axes>"
      ]
     },
     "metadata": {},
     "output_type": "display_data"
    }
   ],
   "source": [
    "plt.figure(figsize=(7, 6))\n",
    "plt.plot(range(len(ada_params[0])), ada_params[0], label=\"Loss\")\n",
    "plt.xlabel(\"Iterations\")\n",
    "plt.ylabel(\"Loss\")\n",
    "plt.title(\"LR-Adagrad\")\n",
    "plt.legend()\n",
    "plt.grid()\n",
    "plt.show()"
   ]
  },
  {
   "cell_type": "markdown",
   "metadata": {},
   "source": [
    "Пытался получить максимальный результат этим методом, но что-то пошло не так... "
   ]
  },
  {
   "cell_type": "markdown",
   "metadata": {},
   "source": [
    "##### (Update)\n",
    "В целом при параметре `learning_rate = 0.01` и 10000000 удалось прийти к метрике R^2, которая лучше, чем у SGD."
   ]
  },
  {
   "cell_type": "code",
   "execution_count": 507,
   "metadata": {},
   "outputs": [
    {
     "name": "stdout",
     "output_type": "stream",
     "text": [
      "12.451739072799683\n"
     ]
    }
   ],
   "source": [
    "start = time()\n",
    "ada_params = adagrad(X, y, 0.5, 10000)\n",
    "end = time()\n",
    "print(end - start)"
   ]
  },
  {
   "cell_type": "code",
   "execution_count": 508,
   "metadata": {},
   "outputs": [
    {
     "name": "stdout",
     "output_type": "stream",
     "text": [
      "0.7526848404454867\n"
     ]
    }
   ],
   "source": [
    "ada_preds = predict(X, ada_params[1])\n",
    "r2_ada = r2_score(y, ada_preds)\n",
    "print(r2_ada)"
   ]
  },
  {
   "cell_type": "markdown",
   "metadata": {},
   "source": [
    "Как оказалось можно бьло получить еще более лучше результаты просто использовав параметр `learning_rate = 0.5` и задействовав меньше итераций."
   ]
  },
  {
   "cell_type": "markdown",
   "metadata": {
    "id": "tP182Wbyh8xg"
   },
   "source": [
    "## Бонус\n",
    "\n",
    "## Задание 9 (0.5 балла)\n",
    "\n",
    "Существует [метод Ньютона](https://en.wikipedia.org/wiki/Newton%27s_method_in_optimization) (метод второго порядка) для поиска минимума функции.\n",
    "\n",
    "Известно, что методы второго порядка точнее, чем методы первого порядка (то есть те, которые используют только первую производную для оптимизации). Как вы думаете, почему в оптимизации функций потерь все формулы используют только производные первого порядка? Почему не используют метод Ньютона?"
   ]
  },
  {
   "cell_type": "markdown",
   "metadata": {
    "id": "QBHOY5Ngi_C2"
   },
   "source": [
    "Вероятно, хоть метод Ньютона и точнее, но с точки зреня вычислений он сильно более затратный в плане вычислительных ресурсов. Например, матрица Гессе, которая требуется для методов второго порядка сильно более объемна, чем градиент. Уже это говорит о том, что потребутся сильно больше памяти для использования методов второго порядка. Особенно в случаях, когда у какой-нибудь модели сотни тысяч параметров."
   ]
  },
  {
   "cell_type": "markdown",
   "metadata": {
    "id": "u7hKRuViF7hv"
   },
   "source": [
    "## **Часть Котобонус** 🐈\n",
    "\n",
    "Ура-ура, с вами снова кот, который может добавить вам баллы!\n",
    "- 0.25, если вы угадаете, чей он\n",
    "- 0.05 если просто предположите\n",
    "\n",
    "**Подсказка:** кот одной из наших замечательных ассистенток!\n",
    "\n",
    "\n",
    "[Кайфующий кот](https://ibb.co/qxjz2tp)"
   ]
  },
  {
   "cell_type": "markdown",
   "metadata": {
    "id": "Hchpz56wGEzA"
   },
   "source": [
    "Мне кажется это кот Сабрины "
   ]
  }
 ],
 "metadata": {
  "colab": {
   "include_colab_link": true,
   "provenance": []
  },
  "kernelspec": {
   "display_name": "Python 3 (ipykernel)",
   "language": "python",
   "name": "python3"
  },
  "language_info": {
   "codemirror_mode": {
    "name": "ipython",
    "version": 3
   },
   "file_extension": ".py",
   "mimetype": "text/x-python",
   "name": "python",
   "nbconvert_exporter": "python",
   "pygments_lexer": "ipython3",
   "version": "3.12.2"
  }
 },
 "nbformat": 4,
 "nbformat_minor": 4
}
